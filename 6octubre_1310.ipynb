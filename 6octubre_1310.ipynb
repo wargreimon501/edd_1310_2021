{
  "nbformat": 4,
  "nbformat_minor": 0,
  "metadata": {
    "colab": {
      "name": "6octubre_1310.ipynb",
      "provenance": [],
      "authorship_tag": "ABX9TyPVoVNYXPs3RJMZ7vU+/4oA",
      "include_colab_link": true
    },
    "kernelspec": {
      "name": "python3",
      "display_name": "Python 3"
    }
  },
  "cells": [
    {
      "cell_type": "markdown",
      "metadata": {
        "id": "view-in-github",
        "colab_type": "text"
      },
      "source": [
        "<a href=\"https://colab.research.google.com/github/wargreimon501/edd_1310_2021/blob/master/6octubre_1310.ipynb\" target=\"_parent\"><img src=\"https://colab.research.google.com/assets/colab-badge.svg\" alt=\"Open In Colab\"/></a>"
      ]
    },
    {
      "cell_type": "code",
      "metadata": {
        "id": "oZsTisgKqZ6v",
        "outputId": "3bf74056-d117-46c4-a33c-27f72648e978",
        "colab": {
          "base_uri": "https://localhost:8080/",
          "height": 170
        }
      },
      "source": [
        "#string continua\n",
        "numeros_txt=\"   1,2,3,4,5,   15  ,    35  ,    12   \"\n",
        "print(numeros_txt)\n",
        "numeros_txt=numeros_txt.lstrip().split(\",\")#separacion de la cadena dependiendo lo que pide split\n",
        "print(numeros_txt)\n",
        "\n",
        "for j in range(len(numeros_txt)):\n",
        "  numeros_txt[j]= int(numeros_txt[j].strip())#strip quitar espacios de una cadena string\n",
        "print(numeros_txt)\n",
        "\n",
        "\n",
        "#funcion range\n",
        "#range(inicio,stop,incremento)\n",
        "print(range(1,10,1))\n",
        "rango = range(1,10,2)\n",
        "for x in rango:\n",
        "  print(x)\n",
        "rango= range(10)\n",
        "\n"
      ],
      "execution_count": null,
      "outputs": [
        {
          "output_type": "stream",
          "text": [
            "   1,2,3,4,5,   15  ,    35  ,    12   \n",
            "['1', '2', '3', '4', '5', '   15  ', '    35  ', '    12   ']\n",
            "[1, 2, 3, 4, 5, 15, 35, 12]\n",
            "range(1, 10)\n",
            "1\n",
            "3\n",
            "5\n",
            "7\n",
            "9\n"
          ],
          "name": "stdout"
        }
      ]
    },
    {
      "cell_type": "markdown",
      "metadata": {
        "id": "TLlm31ktyZrF"
      },
      "source": [
        "# conjunto\n",
        "reprecentacion de teoria de conjunto "
      ]
    },
    {
      "cell_type": "code",
      "metadata": {
        "id": "l76IxGHAyebl",
        "outputId": "08611e1b-a98b-49ce-c76f-0f5c98118ed6",
        "colab": {
          "base_uri": "https://localhost:8080/",
          "height": 136
        }
      },
      "source": [
        "#lista[equivalentes alos areglos en otro lenguaje ]\n",
        "frutas =[\"pera\",\"manzana\",\"fresa\",\"kiwi\",\"naranja\"]\n",
        "print(frutas)\n",
        "cosas=[\"cuaderno\",2,3.344,True,False,[\"rojo\",\"azul\"]]\n",
        "print(cosas)\n",
        "frutas[2]=\"fresas\"#fruta[2]0frutas[2].capitalize\n",
        "print(frutas)\n",
        "# ahregar a una lista \n",
        "frutas.append(\"aguacate\")#meter asta el ultimo en una lista \n",
        "print(frutas)\n",
        "frutas.insert(2,\"sandia\")#insertar en la lista\n",
        "print(frutas)\n",
        "\n",
        "fecha=[\"06\",\"10\",\"2020\"]#06/10/2020\n",
        "print(fecha)\n",
        "fecha_str=\"/\".join(fecha)\n",
        "print(fecha_str)\n",
        "#eliminar\n",
        "\n"
      ],
      "execution_count": 50,
      "outputs": [
        {
          "output_type": "stream",
          "text": [
            "['pera', 'manzana', 'fresa', 'kiwi', 'naranja']\n",
            "['cuaderno', 2, 3.344, True, False, ['rojo', 'azul']]\n",
            "['pera', 'manzana', 'fresas', 'kiwi', 'naranja']\n",
            "['pera', 'manzana', 'fresas', 'kiwi', 'naranja', 'aguacate']\n",
            "['pera', 'manzana', 'sandia', 'fresas', 'kiwi', 'naranja', 'aguacate']\n",
            "['06', '10', '2020']\n",
            "06/10/2020\n"
          ],
          "name": "stdout"
        }
      ]
    },
    {
      "cell_type": "code",
      "metadata": {
        "id": "ZgsO8rsi3TjA",
        "outputId": "99fa9fa4-5161-41e7-aef2-b09eab419d0a",
        "colab": {
          "base_uri": "https://localhost:8080/",
          "height": 170
        }
      },
      "source": [
        "#eliminar\n",
        "cosas=[\"cuaderno\",2,3.344,True,False,[\"rojo\",\"azul\"]]\n",
        "print(cosas)\n",
        "cosas.append(\"libro\")\n",
        "cosas.append(\"lapis\")\n",
        "print(cosas)\n",
        "algo=cosas.pop()\n",
        "print(cosas)\n",
        "algo = cosas.pop(2)\n",
        "print(cosas)\n",
        "print(algo)\n",
        "cosas.remove(2)\n",
        "print(cosas)\n",
        "cosas.clear()#limpiar\n",
        "print(cosas)\n",
        "#ordenar listas\n",
        "print(frutas )\n",
        "frutas.sort()\n",
        "print(frutas)"
      ],
      "execution_count": 51,
      "outputs": [
        {
          "output_type": "stream",
          "text": [
            "['cuaderno', 2, 3.344, True, False, ['rojo', 'azul']]\n",
            "['cuaderno', 2, 3.344, True, False, ['rojo', 'azul'], 'libro', 'lapis']\n",
            "['cuaderno', 2, 3.344, True, False, ['rojo', 'azul'], 'libro']\n",
            "['cuaderno', 2, True, False, ['rojo', 'azul'], 'libro']\n",
            "3.344\n",
            "['cuaderno', True, False, ['rojo', 'azul'], 'libro']\n",
            "[]\n",
            "['pera', 'manzana', 'sandia', 'fresas', 'kiwi', 'naranja', 'aguacate']\n",
            "['aguacate', 'fresas', 'kiwi', 'manzana', 'naranja', 'pera', 'sandia']\n"
          ],
          "name": "stdout"
        }
      ]
    },
    {
      "cell_type": "code",
      "metadata": {
        "id": "ZRY5u8cX7ERd",
        "outputId": "96be376e-fa7b-4b60-c00e-cf971ba8b18f",
        "colab": {
          "base_uri": "https://localhost:8080/",
          "height": 119
        }
      },
      "source": [
        "#slicing\n",
        "cosas=[\"cuaderno\",2,3.344,True,False,[\"rojo\",\"azul\"]]\n",
        "print(cosas[3:5:1])\n",
        "print(cosas)\n",
        "print(cosas[0][3:5:1])\n",
        "\n",
        "numeros=[1,2,3,4,5,6,7,8,9,10,11,12,13,14,15]\n",
        "print(numeros[7:12:1])\n",
        "#sustituir rebanadas -2,-2 1,2,3,4,5,6,7,-2,-2,13,14,15\n",
        "numeros[7:12:]=[-2,-2]\n",
        "print(numeros)\n",
        "#preguntar por una exitencia \n",
        "print(-2 in numeros)"
      ],
      "execution_count": 58,
      "outputs": [
        {
          "output_type": "stream",
          "text": [
            "[True, False]\n",
            "['cuaderno', 2, 3.344, True, False, ['rojo', 'azul']]\n",
            "de\n",
            "[8, 9, 10, 11, 12]\n",
            "[1, 2, 3, 4, 5, 6, 7, -2, -2, 13, 14, 15]\n",
            "True\n"
          ],
          "name": "stdout"
        }
      ]
    },
    {
      "cell_type": "markdown",
      "metadata": {
        "id": "RUbnbvsf-jbK"
      },
      "source": [
        "# listas :multidimencion\n",
        "listas dentro de listas "
      ]
    },
    {
      "cell_type": "code",
      "metadata": {
        "id": "RWT9Tbg8-rBe",
        "outputId": "3757e37f-13e8-401b-9572-db097f00cd18",
        "colab": {
          "base_uri": "https://localhost:8080/",
          "height": 190
        }
      },
      "source": [
        "computadoras = [\"HP\",\"MAC Book pro 17\",\"mate book\",\"Lenovo leguion\"]\n",
        "oss=[\"windosw 10\",\"linux\",\"android\",\"IOS\"]\n",
        "computo=[computadoras,oss ]\n",
        "print(computo[0])\n",
        "print(computo[1])\n",
        "print(computo[0][2])\n",
        "print(computo[0][2][0:5])\n",
        "print(computo[0][3][-8::-1])\n",
        "print(\"linux\" in computo[1])\n",
        "dbms=[\"Mysql\",\"Open Source\",False],[\"MS SQL Server\",\"de paga\",True]\n",
        "computo.append(dbms)\n",
        "print(computo)\n",
        "print(computo[2][0][0])\n",
        "print(computo[2][1][0:11:])"
      ],
      "execution_count": 75,
      "outputs": [
        {
          "output_type": "stream",
          "text": [
            "['HP', 'MAC Book pro 17', 'mate book', 'Lenovo leguion']\n",
            "['windosw 10', 'linux', 'android', 'IOS']\n",
            "mate book\n",
            "mate \n",
            " ovoneL\n",
            "True\n",
            "[['HP', 'MAC Book pro 17', 'mate book', 'Lenovo leguion'], ['windosw 10', 'linux', 'android', 'IOS'], (['Mysql', 'Open Source', False], ['MS SQL Server', 'de paga', True])]\n",
            "Mysql\n",
            "['MS SQL Server', 'de paga', True]\n"
          ],
          "name": "stdout"
        }
      ]
    },
    {
      "cell_type": "markdown",
      "metadata": {
        "id": "PLE2DyjFyZg1"
      },
      "source": [
        ""
      ]
    }
  ]
}