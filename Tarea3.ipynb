{
  "nbformat": 4,
  "nbformat_minor": 0,
  "metadata": {
    "colab": {
      "name": "tarea3.ipynb",
      "provenance": [],
      "authorship_tag": "ABX9TyO3Yzi2spuPZqQKjY/0f9S/",
      "include_colab_link": true
    },
    "kernelspec": {
      "name": "python3",
      "display_name": "Python 3"
    }
  },
  "cells": [
    {
      "cell_type": "markdown",
      "metadata": {
        "id": "view-in-github",
        "colab_type": "text"
      },
      "source": [
        "<a href=\"https://colab.research.google.com/github/wargreimon501/edd_1310_2021/blob/master/Tarea3.ipynb\" target=\"_parent\"><img src=\"https://colab.research.google.com/assets/colab-badge.svg\" alt=\"Open In Colab\"/></a>"
      ]
    },
    {
      "cell_type": "code",
      "metadata": {
        "id": "ThSaFP3gG49I",
        "outputId": "d3afe3d1-7bfd-4d3f-9a9f-600b63959eda",
        "colab": {
          "base_uri": "https://localhost:8080/",
          "height": 221
        }
      },
      "source": [
        "\n",
        "\n",
        "class persona:\n",
        "    def __init__(self,n,e,es):\n",
        "        self.__nombre=n\n",
        "        self.__edad=e\n",
        "        self.__estatura=es\n",
        "    def to_string(self):\n",
        "        return \"Nombre ;\" + self.__nombre +\"\\n\"+ \" Edad ;\" + self.__edad +\"\\n\"+   \" Estatura ; \" + self.__estatura+\"\\n\"\n",
        "    def dormir(self):\n",
        "        return (\"estoy mimiendo\")\n",
        "    def comer(self):\n",
        "        return \"Comere una sandia\"\n",
        "yo= persona(\"Rafael\",\"20\",\"1.79m\")\n",
        "\n",
        "print(yo.to_string(),yo.dormir(),'\\n',yo.comer())\n",
        "\n",
        "\n",
        "class celular:\n",
        "    def __init__(self,ma,mo,em):\n",
        "        self.__marca=ma\n",
        "        self.__modelo=mo\n",
        "        self.__espacio_de_memoria=em\n",
        "    def to_string(self):\n",
        "        return \"Marca ; \"+self.__marca+'\\n'+\"Modelo ; \"+self.__modelo+'\\n'+\"Espacio de memoria ; \"+self.__espacio_de_memoria\n",
        "    def llamar(self):\n",
        "        a=int(input(\"vas a llamar a alguien si[1] , no [0]\"))\n",
        "        if a==1:\n",
        "            n=\" marca el numero \"\n",
        "        else:\n",
        "            n=\" pues F   \"\n",
        "        return n\n",
        "\n",
        "    def poner_alarma(self):\n",
        "        c=int(input(\"vas aponer la alarma si[1] ,no [0]]\"))\n",
        "        if c==1:\n",
        "            m=\"pon la alarma para la clase\"\n",
        "        else:\n",
        "            m=\"es fin de semana a mimir \"\n",
        "        return m\n",
        "    \n",
        "\n",
        "hawei=celular(\"Hawei\",\"Y7\",\"32GB\")\n",
        "print(hawei.to_string())\n",
        "print(hawei.llamar(),'\\n',hawei.poner_alarma())\n"
      ],
      "execution_count": 1,
      "outputs": [
        {
          "output_type": "stream",
          "text": [
            "Nombre ;Rafael\n",
            " Edad ;20\n",
            " Estatura ; 1.79m\n",
            " estoy mimiendo \n",
            " Comere una sandia\n",
            "Marca ; Hawei\n",
            "Modelo ; Y7\n",
            "Espacio de memoria ; 32GB\n",
            "vas a llamar a alguien si[1] , no [0]1\n",
            "vas aponer la alarma si[1] ,no [0]]0\n",
            " marca el numero  \n",
            " es fin de semana a mimir \n"
          ],
          "name": "stdout"
        }
      ]
    }
  ]
}