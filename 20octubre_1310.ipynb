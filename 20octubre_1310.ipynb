{
  "nbformat": 4,
  "nbformat_minor": 0,
  "metadata": {
    "colab": {
      "name": "20octubre_1310.ipynb",
      "provenance": [],
      "authorship_tag": "ABX9TyPPs1guCXrTiL3JtPoPVdzY",
      "include_colab_link": true
    },
    "kernelspec": {
      "name": "python3",
      "display_name": "Python 3"
    }
  },
  "cells": [
    {
      "cell_type": "markdown",
      "metadata": {
        "id": "view-in-github",
        "colab_type": "text"
      },
      "source": [
        "<a href=\"https://colab.research.google.com/github/wargreimon501/edd_1310_2021/blob/master/20octubre_1310.ipynb\" target=\"_parent\"><img src=\"https://colab.research.google.com/assets/colab-badge.svg\" alt=\"Open In Colab\"/></a>"
      ]
    },
    {
      "cell_type": "code",
      "metadata": {
        "id": "5epfZV7izBUg",
        "outputId": "325a5abe-6ac7-4528-b76f-16259b2b4c15",
        "colab": {
          "base_uri": "https://localhost:8080/",
          "height": 272
        }
      },
      "source": [
        "archivo=open(\"numeros.txt\",\"rt\")\n",
        "for linea in archivo.readlines():\n",
        "  for trunc in linea.split(','):\n",
        "    print(int(trunc.strip()))\n",
        "    "
      ],
      "execution_count": 3,
      "outputs": [
        {
          "output_type": "stream",
          "text": [
            "23\n",
            "23\n",
            "44\n",
            "55\n",
            "5\n",
            "44\n",
            "4\n",
            "5\n",
            "7\n",
            "7\n",
            "6\n",
            "5\n",
            "4\n",
            "2\n",
            "1\n"
          ],
          "name": "stdout"
        }
      ]
    },
    {
      "cell_type": "markdown",
      "metadata": {
        "id": "PqCqhHuV2vrl"
      },
      "source": [
        "# sintaxis del for en python\n",
        "dos versiones de  for \n",
        "1-range\n",
        "2 in iterator"
      ]
    },
    {
      "cell_type": "code",
      "metadata": {
        "id": "1aRdRSUC24W4",
        "outputId": "198d0fc2-991d-40d2-c714-d40d2f7a5ffe",
        "colab": {
          "base_uri": "https://localhost:8080/",
          "height": 255
        }
      },
      "source": [
        "r=range(0,10,1)\n",
        "for x in r:\n",
        "  print(x)\n",
        "\n",
        "colores=['rojo','rosa','azul','fucsia']\n",
        "for indice in range (0,len(colores),1):# for (indice=0;indice<5;indice++)\n",
        " # print(colores[indice])\n",
        "# fore sobre un iterator\n",
        "   colores[indice]=colores[indice].upper()\n",
        "for col in colores:\n",
        "  print(col)"
      ],
      "execution_count": 12,
      "outputs": [
        {
          "output_type": "stream",
          "text": [
            "0\n",
            "1\n",
            "2\n",
            "3\n",
            "4\n",
            "5\n",
            "6\n",
            "7\n",
            "8\n",
            "9\n",
            "ROJO\n",
            "ROSA\n",
            "AZUL\n",
            "FUCSIA\n"
          ],
          "name": "stdout"
        }
      ]
    },
    {
      "cell_type": "markdown",
      "metadata": {
        "id": "g3uCX5HQ8BoN"
      },
      "source": [
        "# generador\n",
        "[\"hola\" valor for x in range(10)]\n",
        "\n",
        "[[0,0,0],\n",
        "[0,0,0],\n",
        "[0,0,0]]\n",
        "\n",
        "3x3"
      ]
    },
    {
      "cell_type": "code",
      "metadata": {
        "id": "XEcFrnoD77TL",
        "outputId": "97e94dfb-304b-45be-9bb8-142aacdb0c08",
        "colab": {
          "base_uri": "https://localhost:8080/",
          "height": 34
        }
      },
      "source": [
        "lista = [\"hola\" for x in range(10)]\n",
        "print(lista)\n"
      ],
      "execution_count": 18,
      "outputs": [
        {
          "output_type": "stream",
          "text": [
            "['hola', 'hola', 'hola', 'hola', 'hola', 'hola', 'hola', 'hola', 'hola', 'hola']\n"
          ],
          "name": "stdout"
        }
      ]
    },
    {
      "cell_type": "code",
      "metadata": {
        "id": "cWaF6k2y-F4n",
        "outputId": "84a87f42-dfb9-4105-918a-28cd78e2dc1b",
        "colab": {
          "base_uri": "https://localhost:8080/",
          "height": 34
        }
      },
      "source": [
        "ron = 5\n",
        "col=3\n",
        "lista =[[0 for x in range(col)] for x in range(ron)]\n",
        "print(lista)"
      ],
      "execution_count": 21,
      "outputs": [
        {
          "output_type": "stream",
          "text": [
            "[[0, 0, 0], [0, 0, 0], [0, 0, 0], [0, 0, 0], [0, 0, 0]]\n"
          ],
          "name": "stdout"
        }
      ]
    },
    {
      "cell_type": "markdown",
      "metadata": {
        "id": "X5KsuF1H_OTt"
      },
      "source": [
        "# poo en python\n",
        "-clse\n",
        "-ceacion de objeto\n",
        "-contructor\n",
        "-encapculamiento\n",
        "-metodos \n",
        "-atributo\n",
        "-herencia\n"
      ]
    },
    {
      "cell_type": "code",
      "metadata": {
        "id": "vz_nU6Eo_dHW",
        "outputId": "c8c89000-07db-47e3-8cb6-4d58a395e9b8",
        "colab": {
          "base_uri": "https://localhost:8080/",
          "height": 34
        }
      },
      "source": [
        "class computadora :\n",
        "  def __init__ ( self,m,p ):\n",
        "    self.__marca=m\n",
        "    self.__procesador=p\n",
        "\n",
        "  def to_string( self ):\n",
        "    return \"Marca:\"+self.__marca+\"procesador:\"+self.__procesador\n",
        "\n",
        "\n",
        "\n",
        "\n",
        "mi_pc= computadora(\"Toshiba\",\"intel i7\")\n",
        "mi_pc.__marca=\"hp\"\n",
        "print(mi_pc.to_string())"
      ],
      "execution_count": 33,
      "outputs": [
        {
          "output_type": "stream",
          "text": [
            "Marca:Toshibaprocesador:intel i7\n"
          ],
          "name": "stdout"
        }
      ]
    }
  ]
}