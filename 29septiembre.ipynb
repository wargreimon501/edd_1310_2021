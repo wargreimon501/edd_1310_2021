{
  "nbformat": 4,
  "nbformat_minor": 0,
  "metadata": {
    "colab": {
      "name": "Untitled0.ipynb",
      "provenance": [],
      "authorship_tag": "ABX9TyPWs/uwtOr6o/kUK+qOnv5F",
      "include_colab_link": true
    },
    "kernelspec": {
      "name": "python3",
      "display_name": "Python 3"
    }
  },
  "cells": [
    {
      "cell_type": "markdown",
      "metadata": {
        "id": "view-in-github",
        "colab_type": "text"
      },
      "source": [
        "<a href=\"https://colab.research.google.com/github/wargreimon501/edd_1310_2021/blob/master/29septiembre.ipynb\" target=\"_parent\"><img src=\"https://colab.research.google.com/assets/colab-badge.svg\" alt=\"Open In Colab\"/></a>"
      ]
    },
    {
      "cell_type": "code",
      "metadata": {
        "id": "aMVyjfTrsuUJ"
      },
      "source": [
        "edad = 10 "
      ],
      "execution_count": 1,
      "outputs": []
    },
    {
      "cell_type": "code",
      "metadata": {
        "id": "N5Rm4m4DvUjC",
        "outputId": "d1289843-66b7-4554-83cc-0f07ccf2f1c5",
        "colab": {
          "base_uri": "https://localhost:8080/",
          "height": 68
        }
      },
      "source": [
        "print(edad)\n",
        "colores = [\"rojo\",\"azul\",\"verde\",\"morado\",\"violeta\"]\n",
        "print(colores)\n",
        "print(colores [3])\n"
      ],
      "execution_count": 5,
      "outputs": [
        {
          "output_type": "stream",
          "text": [
            "10\n",
            "['rojo', 'azul', 'verde', 'morado', 'violeta']\n",
            "morado\n"
          ],
          "name": "stdout"
        }
      ]
    },
    {
      "cell_type": "code",
      "metadata": {
        "id": "oYRzIxBOxXLq",
        "outputId": "e214f873-ae93-47b7-c43b-24823fb7860f",
        "colab": {
          "base_uri": "https://localhost:8080/",
          "height": 68
        }
      },
      "source": [
        "print(colores [3][2:4])\n",
        "nombre=\"albredo\"\n",
        "print(nombre[0])\n",
        "print(nombre[0:3:1])"
      ],
      "execution_count": 7,
      "outputs": [
        {
          "output_type": "stream",
          "text": [
            "ra\n",
            "a\n",
            "alf\n"
          ],
          "name": "stdout"
        }
      ]
    },
    {
      "cell_type": "markdown",
      "metadata": {
        "id": "Xk0hhxB0yOgt"
      },
      "source": [
        "# for en python 3\n",
        "2 vaiantes \n",
        "1 . in range (ini,tipe,incremento)\n",
        "2 .in >iterador<"
      ]
    },
    {
      "cell_type": "code",
      "metadata": {
        "id": "dHGmjRBcy5I4",
        "outputId": "f8ef6e31-2484-438d-e6db-c5a6c630348e",
        "colab": {
          "base_uri": "https://localhost:8080/",
          "height": 102
        }
      },
      "source": [
        "for j in range(0,5,1):\n",
        "  print(colores [j])"
      ],
      "execution_count": 11,
      "outputs": [
        {
          "output_type": "stream",
          "text": [
            "rojo\n",
            "azul\n",
            "verde\n",
            "morado\n",
            "violeta\n"
          ],
          "name": "stdout"
        }
      ]
    },
    {
      "cell_type": "code",
      "metadata": {
        "id": "JGezw-UFz2kF",
        "outputId": "7916b95e-7184-46a8-f5ea-b78070fb7757",
        "colab": {
          "base_uri": "https://localhost:8080/",
          "height": 34
        }
      },
      "source": [
        "for color in colores:\n",
        "  print(color )"
      ],
      "execution_count": 21,
      "outputs": [
        {
          "output_type": "stream",
          "text": [
            "a\n"
          ],
          "name": "stdout"
        }
      ]
    },
    {
      "cell_type": "code",
      "metadata": {
        "id": "S-hJX92f0lBm",
        "outputId": "fdfbf24e-2d57-410f-c0e3-cca15a446089",
        "colab": {
          "base_uri": "https://localhost:8080/",
          "height": 136
        }
      },
      "source": [
        "for j in range(0,len(nombre) ,1):\n",
        "  print(nombre[j] )"
      ],
      "execution_count": 26,
      "outputs": [
        {
          "output_type": "stream",
          "text": [
            "a\n",
            "l\n",
            "f\n",
            "r\n",
            "e\n",
            "d\n",
            "o\n"
          ],
          "name": "stdout"
        }
      ]
    },
    {
      "cell_type": "code",
      "metadata": {
        "id": "oAbjxwzA1O5I",
        "outputId": "d65cce81-96d0-41cf-d98c-30fe7ae1709c",
        "colab": {
          "base_uri": "https://localhost:8080/",
          "height": 136
        }
      },
      "source": [
        "for nom in nombre :\n",
        "  print(nom)"
      ],
      "execution_count": 27,
      "outputs": [
        {
          "output_type": "stream",
          "text": [
            "a\n",
            "l\n",
            "f\n",
            "r\n",
            "e\n",
            "d\n",
            "o\n"
          ],
          "name": "stdout"
        }
      ]
    },
    {
      "cell_type": "markdown",
      "metadata": {
        "id": "P4BuVkoE1kmd"
      },
      "source": [
        "# que es markdown\n",
        "markdow es un marcado para documentar codigo.el objetivo es simplificar la escritura de lenguaje HTML\n",
        "___\n",
        "**negritas**\n",
        "o\n",
        "***\n",
        "mas informacion en : [Github Cheatsheet markdow]()\n",
        "___\n",
        "![FES](https://upload.wikimedia.org/wikipedia/commons/thumb/5/51/Aragon_Jonhy_corel.jpg/240px-Aragon_Jonhy_corel.jpg)"
      ]
    }
  ]
}