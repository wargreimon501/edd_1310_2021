{
  "nbformat": 4,
  "nbformat_minor": 0,
  "metadata": {
    "colab": {
      "name": "27octubre2020_1310.ipynb",
      "provenance": [],
      "authorship_tag": "ABX9TyO1OVZTeJYSVxqYMGxw4kkw",
      "include_colab_link": true
    },
    "kernelspec": {
      "name": "python3",
      "display_name": "Python 3"
    }
  },
  "cells": [
    {
      "cell_type": "markdown",
      "metadata": {
        "id": "view-in-github",
        "colab_type": "text"
      },
      "source": [
        "<a href=\"https://colab.research.google.com/github/wargreimon501/edd_1310_2021/blob/master/27octubre2020_1310.ipynb\" target=\"_parent\"><img src=\"https://colab.research.google.com/assets/colab-badge.svg\" alt=\"Open In Colab\"/></a>"
      ]
    },
    {
      "cell_type": "code",
      "metadata": {
        "id": "4S96UiSEBqqE",
        "outputId": "e1052389-4947-4fb7-abcd-de32b0b96b7b",
        "colab": {
          "base_uri": "https://localhost:8080/",
          "height": 68
        }
      },
      "source": [
        "class Computadora:\n",
        "    def __init__( self , m , p):\n",
        "        self.__marca = m\n",
        "        self.__procesador = p\n",
        "    \n",
        "    def to_string( self ):\n",
        "        return \"MArca:\"+self.__marca+\" Procesador:\"+self.__procesador\n",
        "     \n",
        "\n",
        "    def set_marca(self,m):\n",
        "      self.__marca=m\n",
        "    def get_marca(self):\n",
        "      return self.__marca\n",
        "    def set_procesador(self,p):\n",
        "      self.__procesador=p\n",
        "    def get_procesador(self):\n",
        "      return self.__procesador\n",
        "\n",
        "\n",
        "mi_pc = Computadora(\"Toshiba\",\"Intel i7\")\n",
        "print(mi_pc.to_string())\n",
        "mi_pc.__marca=\"HP \"# intentando modificar el valor\n",
        "mi_pc.set_marca=\"HP \"# intentando modificar el valor\n",
        "print(mi_pc.to_string())\n",
        "print(mi_pc.get_procesador())\n"
      ],
      "execution_count": 8,
      "outputs": [
        {
          "output_type": "stream",
          "text": [
            "MArca:Toshiba Procesador:Intel i7\n",
            "MArca:Toshiba Procesador:Intel i7\n",
            "Intel i7\n"
          ],
          "name": "stdout"
        }
      ]
    },
    {
      "cell_type": "markdown",
      "metadata": {
        "id": "iSFO8uHQENtU"
      },
      "source": [
        "# encapculamiento python 3\n",
        "##tradicinal tipo java\n",
        "    void setAtributo(val)\n",
        "    tipo getAtributo()\n",
        "##estilo python 3\n",
        "utilisando decoradores\n",
        "-@property\n",
        "-@atributo.setter"
      ]
    },
    {
      "cell_type": "code",
      "metadata": {
        "id": "vP6yKevfH44p",
        "outputId": "af06055f-3db4-483a-add2-fc28ac7c2033",
        "colab": {
          "base_uri": "https://localhost:8080/",
          "height": 119
        }
      },
      "source": [
        "class Computadora:\n",
        "    def __init__( self , m , p):\n",
        "      self.marca=m #se manda a llamar el decorador @propery\n",
        "      self.procesador=p #idem\n",
        "    @property # se declara como atributo privado y de clara tributo get \n",
        "    \n",
        "    def marca (self):\n",
        "      return self.__marca\n",
        "\n",
        "    @marca.setter\n",
        "    def marca(self,m):\n",
        "      print(\"en el setter de marca \")\n",
        "      self.__marca=m\n",
        "    @property\n",
        "    def procesador(self):\n",
        "      print(\"en el metodo set de procesador\")\n",
        "      return self.__procesador\n",
        "    @procesador.setter\n",
        "    def procesador(self,p):\n",
        "      self.__procesador=p\n",
        "    def to_string (self):\n",
        "      return 'marca' + self.marca+\"procesador\"+self.procesador\n",
        "mi_pc2=Computadora(\"mac book pro\",\"intel7\")\n",
        "print(mi_pc2.to_string())\n",
        "mi_pc2.marca=\"dell\"\n",
        "print(mi_pc2.to_string())"
      ],
      "execution_count": 20,
      "outputs": [
        {
          "output_type": "stream",
          "text": [
            "en el setter de marca \n",
            "en el metodo set de procesador\n",
            "marcamac book proprocesadorintel7\n",
            "en el setter de marca \n",
            "en el metodo set de procesador\n",
            "marcadellprocesadorintel7\n"
          ],
          "name": "stdout"
        }
      ]
    },
    {
      "cell_type": "code",
      "metadata": {
        "id": "HWMlFZaCQiTC",
        "outputId": "c28eba29-901d-41c3-dbd6-a5bb6f45fe55",
        "colab": {
          "base_uri": "https://localhost:8080/",
          "height": 85
        }
      },
      "source": [
        "# herecia ,pasando la clase base a la declaracion \n",
        "class servidorEmpresarial (Computadora):\n",
        "  def __init__(self):\n",
        "    print('hola servidor')\n",
        "\n",
        "server=servidorEmpresarial()\n",
        "server.marca=\"sun micro systems\"\n",
        "server.procesador =\"intel 17\"\n",
        "print(server.to_string())"
      ],
      "execution_count": 24,
      "outputs": [
        {
          "output_type": "stream",
          "text": [
            "hola servidor\n",
            "en el setter de marca \n",
            "en el metodo set de procesador\n",
            "marcasun micro systemsprocesadorintel 17\n"
          ],
          "name": "stdout"
        }
      ]
    },
    {
      "cell_type": "code",
      "metadata": {
        "id": "48lkMl-6QiIP"
      },
      "source": [
        ""
      ],
      "execution_count": null,
      "outputs": []
    }
  ]
}