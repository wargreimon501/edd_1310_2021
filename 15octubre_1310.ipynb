{
  "nbformat": 4,
  "nbformat_minor": 0,
  "metadata": {
    "colab": {
      "name": "15octubre_1310.ipynb",
      "provenance": [],
      "authorship_tag": "ABX9TyPxsrCSdTpDDZKbf7nLVdFm",
      "include_colab_link": true
    },
    "kernelspec": {
      "name": "python3",
      "display_name": "Python 3"
    }
  },
  "cells": [
    {
      "cell_type": "markdown",
      "metadata": {
        "id": "view-in-github",
        "colab_type": "text"
      },
      "source": [
        "<a href=\"https://colab.research.google.com/github/wargreimon501/edd_1310_2021/blob/master/15octubre_1310.ipynb\" target=\"_parent\"><img src=\"https://colab.research.google.com/assets/colab-badge.svg\" alt=\"Open In Colab\"/></a>"
      ]
    },
    {
      "cell_type": "markdown",
      "metadata": {
        "id": "qLGL8WDZBzM0"
      },
      "source": [
        "#modulos\n",
        "son recursos reutilisables que pueden ser importadas en tu codigo "
      ]
    },
    {
      "cell_type": "code",
      "metadata": {
        "id": "sutcJvWnBPXG",
        "outputId": "e84c99a3-987b-46c4-e62c-6325648da11e",
        "colab": {
          "base_uri": "https://localhost:8080/",
          "height": 51
        }
      },
      "source": [
        "\"\"\"\n",
        "import mi_modulo\n",
        "x= mi_modulo.sumar(4,7)\n",
        "print(x)\n",
        "\n",
        "print(mi_modulo.multiplicar(3,5))\n",
        "\"\"\"\n"
      ],
      "execution_count": 2,
      "outputs": [
        {
          "output_type": "stream",
          "text": [
            "11\n",
            "15\n"
          ],
          "name": "stdout"
        }
      ]
    },
    {
      "cell_type": "code",
      "metadata": {
        "id": "PXgVKdwjKSJf",
        "outputId": "1bb1666f-dbed-42c4-c440-8ee251edf3d1",
        "colab": {
          "base_uri": "https://localhost:8080/",
          "height": 51
        }
      },
      "source": [
        "from mi_modulo import sumar ,dividir\n",
        "print(sumar(4,7))\n",
        "\n",
        "print(dividir(28,4))"
      ],
      "execution_count": 10,
      "outputs": [
        {
          "output_type": "stream",
          "text": [
            "11\n",
            "7.0\n"
          ],
          "name": "stdout"
        }
      ]
    },
    {
      "cell_type": "code",
      "metadata": {
        "id": "IdHLKJUOLPtN",
        "outputId": "fe665a0c-ed7f-4ece-c407-fd1359b2aade",
        "colab": {
          "base_uri": "https://localhost:8080/",
          "height": 34
        }
      },
      "source": [
        "import mi_modulo as patito\n",
        "print(patito.sumar (4,6))"
      ],
      "execution_count": 7,
      "outputs": [
        {
          "output_type": "stream",
          "text": [
            "10\n"
          ],
          "name": "stdout"
        }
      ]
    },
    {
      "cell_type": "code",
      "metadata": {
        "id": "7sZzCtN6OHuh",
        "outputId": "6301f4c0-b85b-441c-c717-7b1c9aa4d9f6",
        "colab": {
          "base_uri": "https://localhost:8080/",
          "height": 275
        }
      },
      "source": [
        "pip install joke-generator"
      ],
      "execution_count": 12,
      "outputs": [
        {
          "output_type": "stream",
          "text": [
            "Collecting joke-generator\n",
            "  Downloading https://files.pythonhosted.org/packages/95/e5/de76c4aff315ad38ab69cd25ea942250a51008e910905c1f8ef80265b15b/joke_generator-1.0.1.tar.gz\n",
            "Requirement already satisfied: requests>=2.22.0 in /usr/local/lib/python3.6/dist-packages (from joke-generator) (2.23.0)\n",
            "Requirement already satisfied: certifi>=2017.4.17 in /usr/local/lib/python3.6/dist-packages (from requests>=2.22.0->joke-generator) (2020.6.20)\n",
            "Requirement already satisfied: urllib3!=1.25.0,!=1.25.1,<1.26,>=1.21.1 in /usr/local/lib/python3.6/dist-packages (from requests>=2.22.0->joke-generator) (1.24.3)\n",
            "Requirement already satisfied: chardet<4,>=3.0.2 in /usr/local/lib/python3.6/dist-packages (from requests>=2.22.0->joke-generator) (3.0.4)\n",
            "Requirement already satisfied: idna<3,>=2.5 in /usr/local/lib/python3.6/dist-packages (from requests>=2.22.0->joke-generator) (2.10)\n",
            "Building wheels for collected packages: joke-generator\n",
            "  Building wheel for joke-generator (setup.py) ... \u001b[?25l\u001b[?25hdone\n",
            "  Created wheel for joke-generator: filename=joke_generator-1.0.1-cp36-none-any.whl size=2075 sha256=3fa76f75f7d818361862707c1057c7c20d7ff05caa4a6df84a3ec64db94417b6\n",
            "  Stored in directory: /root/.cache/pip/wheels/b1/e1/1c/42a5a669d05834c31aab52f6f87b1c7d50718f7669d51bd347\n",
            "Successfully built joke-generator\n",
            "Installing collected packages: joke-generator\n",
            "Successfully installed joke-generator-1.0.1\n"
          ],
          "name": "stdout"
        }
      ]
    },
    {
      "cell_type": "code",
      "metadata": {
        "id": "W4Azg0noOHee",
        "outputId": "0ffb7296-74b0-44ad-b534-5828c9416ad3",
        "colab": {
          "base_uri": "https://localhost:8080/",
          "height": 35
        }
      },
      "source": [
        "from joke_generator import generate\n",
        "generate()"
      ],
      "execution_count": 16,
      "outputs": [
        {
          "output_type": "execute_result",
          "data": {
            "application/vnd.google.colaboratory.intrinsic+json": {
              "type": "string"
            },
            "text/plain": [
              "'What do birds give out on Halloween? Tweets.'"
            ]
          },
          "metadata": {
            "tags": []
          },
          "execution_count": 16
        }
      ]
    },
    {
      "cell_type": "markdown",
      "metadata": {
        "id": "h5G-6srISS1B"
      },
      "source": [
        "# archivos \n",
        "-open(string, str )\n",
        "   1.nombre del archivo\n",
        "   2.dos caracteres\n",
        "      -modo de apertura del \n",
        "archivo(r,w,a.appen,x.appen si solo si no existe)\n",
        "formato del archivo (t o b)"
      ]
    },
    {
      "cell_type": "code",
      "metadata": {
        "id": "zcqfNdGLSPYz"
      },
      "source": [
        "archivo=open(\"saludo.txt\",\"wt\")\n",
        "archivo.write(\"hola \\n ola ke aze\")\n",
        "archivo.close()"
      ],
      "execution_count": 18,
      "outputs": []
    },
    {
      "cell_type": "code",
      "metadata": {
        "id": "E9JRNvifUe6T"
      },
      "source": [
        "otro =open(\"./sample_data/anscombe.json\",\"rt\")\n",
        "datos= otro.read()\n",
        "print(datos)\n",
        "otro.close()"
      ],
      "execution_count": null,
      "outputs": []
    },
    {
      "cell_type": "code",
      "metadata": {
        "id": "5-0u18dVUd-w",
        "outputId": "33074a53-654b-442b-e36f-61975dd1c1cb",
        "colab": {
          "base_uri": "https://localhost:8080/",
          "height": 136
        }
      },
      "source": [
        "arch=open('frutas.txt','rt')\n",
        "data=\"ppp\"\n",
        "while (data!=''):\n",
        "  data= arch.readline()\n",
        "  print(data)\n",
        "\n",
        "arch.close()\n",
        "arch=open('frutas.txt','rt')\n",
        "list_frutas= arch.readlines()\n",
        "print(list_frutas)"
      ],
      "execution_count": 27,
      "outputs": [
        {
          "output_type": "stream",
          "text": [
            "manzana,pera ,kiwi ,aguacate\n",
            "\n",
            "limon, naranja\n",
            "\n",
            "sandia, papaya\n",
            "\n",
            "['manzana,pera ,kiwi ,aguacate\\n', 'limon, naranja\\n', 'sandia, papaya']\n"
          ],
          "name": "stdout"
        }
      ]
    }
  ]
}