{
  "nbformat": 4,
  "nbformat_minor": 0,
  "metadata": {
    "colab": {
      "name": "tarea2.ipynb",
      "provenance": [],
      "authorship_tag": "ABX9TyOc7ekcMCLIVmdqUHVPtrXz",
      "include_colab_link": true
    },
    "kernelspec": {
      "name": "python3",
      "display_name": "Python 3"
    }
  },
  "cells": [
    {
      "cell_type": "markdown",
      "metadata": {
        "id": "view-in-github",
        "colab_type": "text"
      },
      "source": [
        "<a href=\"https://colab.research.google.com/github/wargreimon501/edd_1310_2021/blob/master/tarea2.ipynb\" target=\"_parent\"><img src=\"https://colab.research.google.com/assets/colab-badge.svg\" alt=\"Open In Colab\"/></a>"
      ]
    },
    {
      "cell_type": "code",
      "metadata": {
        "id": "YGbBLuay1sit",
        "outputId": "431c8986-4a19-4a07-95dd-5a6c1557b09f",
        "colab": {
          "base_uri": "https://localhost:8080/",
          "height": 275
        }
      },
      "source": [
        "arch=open(\"Datos.txt\",\"rt\")\n",
        "f=arch.readlines() \n",
        "print(f)\n",
        "print(\"+++++++++++++++++++++++++++++++++++++++++++++++++++++++++++++++++++++++++++++++++++++++++++++++++++++++++++++++++++++++++++++++++++++++++++++++++++++++++\")\n",
        "\n",
        "#for j in range(len(f)):\n",
        " # f[j]= int(f[j].strip())#strip quitar espacios de una cadena string\n",
        "#print(s)\n",
        "\n",
        "def sumalista(listaNumeros):\n",
        "    laSuma = 0\n",
        "    for i in str(listaNumeros):\n",
        "        laSuma = laSuma + i\n",
        "    return laSuma\n",
        "\n",
        "import csv\n",
        "lista=[]\n",
        "with open(\"Datos.txt\") as f:\n",
        "    entrada= csv.reader(f)\n",
        "    lista=list(entrada)\n",
        "#for linea in lista:\n",
        "   #print(linea)\n",
        "s=(lista[0]+lista[2]+lista[4]+lista[6]+lista[8]+lista[10]+lista[12]+lista[14]+lista[16]+lista[18])\n",
        "v=(lista[21]+lista[22]+lista[24]+lista[25])\n",
        "\n",
        "for j in range(len(s)):\n",
        "  s[j]= int(s[j].strip())\n",
        "\n",
        "for j in range(len(v)):\n",
        "  v[j]= (v[j].strip())\n",
        "\n",
        "u=lista[0]\n",
        "for j in range(len(u)):\n",
        "  u[j]= int(u[j].strip())\n",
        "\n",
        "for j in range(len(lista[2])):\n",
        "  lista[2][j]= int(lista[2][j].strip())\n",
        "\n",
        "for j in range(len(lista[4])):\n",
        "  lista[4][j]= int(lista[4][j].strip())\n",
        "\n",
        "for j in range(len(lista[6])):\n",
        "  lista[6][j]= int(lista[6][j].strip())\n",
        "\n",
        "for j in range(len(lista[8])):\n",
        "  lista[8][j]= int(lista[8][j].strip())\n",
        "\n",
        "for j in range(len(lista[10])):\n",
        "  lista[10][j]= int(lista[10][j].strip())\n",
        "\n",
        "for j in range(len(lista[12])):\n",
        "  lista[12][j]= int(lista[12][j].strip())\n",
        "\n",
        "for j in range(len(lista[14])):\n",
        "  lista[14][j]= int(lista[14][j].strip())\n",
        "\n",
        "for j in range(len(lista[16])):\n",
        "  lista[16][j]= int(lista[16][j].strip())\n",
        "\n",
        "for j in range(len(lista[18])):\n",
        "  lista[18][j]= int(lista[18][j].strip())\n",
        "\n",
        "\n",
        "h=s+v\n",
        "print(h)\n",
        "def sumalista(listaNumeros):\n",
        "    laSuma = 0\n",
        "    for i in listaNumeros:\n",
        "        laSuma = laSuma + i\n",
        "    return laSuma\n",
        "print(f\"La suma total de los numeros del archivo Datos es ;\",sumalista(s))\n",
        "print(f\"La suma total del 1 renglon es ; \",sumalista(u))\n",
        "print(f\"La suma total del 2 renglon es ; \",sumalista(lista[2]))\n",
        "print(f\"La suma total del 3 renglon es ; \",sumalista(lista[4]))\n",
        "print(f\"La suma total del 4 renglon es ; \",sumalista(lista[6]))\n",
        "print(f\"La suma total del 5 renglon es ; \",sumalista(lista[8]))\n",
        "print(f\"La suma total del 6 renglon es ; \",sumalista(lista[10]))\n",
        "print(f\"La suma total del 7 renglon es ; \",sumalista(lista[12]))\n",
        "print(f\"La suma total del 8 renglon es ; \",sumalista(lista[14]))\n",
        "print(f\"La suma total del 9 renglon es ; \",sumalista(lista[16]))\n",
        "print(f\"La suma total del 10 renglon es ; \",sumalista(lista[18]))\n",
        "\n"
      ],
      "execution_count": 1,
      "outputs": [
        {
          "output_type": "stream",
          "text": [
            "['1,2,      1,   14,          29,45,5,        58,56, 10,     29,     14,      88,           17,4,3,1,7,         12,            10\\n', '\\n', '2,        23,               5, 8, 44,        2, 2,             13,             5,9,10,16,  98,  76,      47,     1,1,3,         2\\n', '\\n', '3,       87,       15,11,9,      7,90,97,           21,3,4,1,     8,   88,    74,         32, 34,    43, 17,        77, 93\\n', '\\n', '4,46,8,1,6,2,         10,37,84,     4,5,9,10,            2,         6 ,3  , 1,1 ,1,    8,   4,20,  33,  23,       18, 45\\n', '     \\n', '55, 3, 2,      29,     58,    83,9, 17, 1,    43, 20,          93,     31,        46,43, 77,           8,44,45, 17,          62\\n', '\\n', '6,       74, 13, 44,          18, 45,                11,   93, 2,   1, 1 ,1,        25, 1,        42,  18,     22,              44,   52\\n', '\\n', '7,    88, 93,    6, 54, 2, 8, 1,        41, 86, 79,        33, 48,9,             32, 63,18,7,         33,2,1,     16,11, 7\\n', '\\n', '8, 0,  22,    17,30,6, 2,         12, 47,  37,     34,   85,       47,    33,  2,  6,      8, 4, 5,   29,    30, 42,      77, 2\\n', '\\n', '9,    2,3,4,    1,1,      3,6,   7,7,8,  9,      5, 1,      3, 4, 9,    10,           12,    3, 1,     5,    6,    22,11,     0,  2\\n', '\\n', '1,0,     2,55,      9,  3,     55,    23,1,6,      9,    4,   5,     3,3,2,  1,      3,8,      1,   6,       10,      0,   1,5,1,      3\\n', '\\n', '\\n', 'Instrucciones:\\n', 'Con base al archivo adjunto Datos.txt con programación ralizar lo siguiente: \\n', '\\n', '1.-leer el archivo, procesarlo, quitar los espacios y sumar los números por renglón (mostrar la suma).\\n', '2.-Mostrar la suma total de todos los números que contiene el archivo (mostrar la suma).\\n', '\\n', '\\n', '\\n']\n",
            "+++++++++++++++++++++++++++++++++++++++++++++++++++++++++++++++++++++++++++++++++++++++++++++++++++++++++++++++++++++++++++++++++++++++++++++++++++++++++\n",
            "[1, 2, 1, 14, 29, 45, 5, 58, 56, 10, 29, 14, 88, 17, 4, 3, 1, 7, 12, 10, 2, 23, 5, 8, 44, 2, 2, 13, 5, 9, 10, 16, 98, 76, 47, 1, 1, 3, 2, 3, 87, 15, 11, 9, 7, 90, 97, 21, 3, 4, 1, 8, 88, 74, 32, 34, 43, 17, 77, 93, 4, 46, 8, 1, 6, 2, 10, 37, 84, 4, 5, 9, 10, 2, 6, 3, 1, 1, 1, 8, 4, 20, 33, 23, 18, 45, 55, 3, 2, 29, 58, 83, 9, 17, 1, 43, 20, 93, 31, 46, 43, 77, 8, 44, 45, 17, 62, 6, 74, 13, 44, 18, 45, 11, 93, 2, 1, 1, 1, 25, 1, 42, 18, 22, 44, 52, 7, 88, 93, 6, 54, 2, 8, 1, 41, 86, 79, 33, 48, 9, 32, 63, 18, 7, 33, 2, 1, 16, 11, 7, 8, 0, 22, 17, 30, 6, 2, 12, 47, 37, 34, 85, 47, 33, 2, 6, 8, 4, 5, 29, 30, 42, 77, 2, 9, 2, 3, 4, 1, 1, 3, 6, 7, 7, 8, 9, 5, 1, 3, 4, 9, 10, 12, 3, 1, 5, 6, 22, 11, 0, 2, 1, 0, 2, 55, 9, 3, 55, 23, 1, 6, 9, 4, 5, 3, 3, 2, 1, 3, 8, 1, 6, 10, 0, 1, 5, 1, 3, 'Instrucciones:', 'Con base al archivo adjunto Datos.txt con programación ralizar lo siguiente:', '1.-leer el archivo', 'procesarlo', 'quitar los espacios y sumar los números por renglón (mostrar la suma).', '2.-Mostrar la suma total de todos los números que contiene el archivo (mostrar la suma).']\n",
            "La suma total de los numeros del archivo Datos es ; 4981\n",
            "La suma total del 1 renglon es ;  406\n",
            "La suma total del 2 renglon es ;  367\n",
            "La suma total del 3 renglon es ;  814\n",
            "La suma total del 4 renglon es ;  391\n",
            "La suma total del 5 renglon es ;  786\n",
            "La suma total del 6 renglon es ;  513\n",
            "La suma total del 7 renglon es ;  745\n",
            "La suma total del 8 renglon es ;  585\n",
            "La suma total del 9 renglon es ;  154\n",
            "La suma total del 10 renglon es ;  220\n"
          ],
          "name": "stdout"
        }
      ]
    }
  ]
}