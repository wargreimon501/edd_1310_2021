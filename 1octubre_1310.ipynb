{
  "nbformat": 4,
  "nbformat_minor": 0,
  "metadata": {
    "colab": {
      "name": "1octubre_1310.ipynb",
      "provenance": [],
      "toc_visible": true,
      "authorship_tag": "ABX9TyNfW4BGybP7ypB/BqW1+iks",
      "include_colab_link": true
    },
    "kernelspec": {
      "name": "python3",
      "display_name": "Python 3"
    }
  },
  "cells": [
    {
      "cell_type": "markdown",
      "metadata": {
        "id": "view-in-github",
        "colab_type": "text"
      },
      "source": [
        "<a href=\"https://colab.research.google.com/github/wargreimon501/edd_1310_2021/blob/master/1octubre_1310.ipynb\" target=\"_parent\"><img src=\"https://colab.research.google.com/assets/colab-badge.svg\" alt=\"Open In Colab\"/></a>"
      ]
    },
    {
      "cell_type": "markdown",
      "metadata": {
        "id": "uG6HNzIq7rNX"
      },
      "source": [
        "## intro python 3\n",
        "### variables\n",
        "tipo dinamico\n",
        "escuela = \"Fes aragon\"\n",
        "\n",
        "\n",
        "```\n",
        "# Esto tiene formato de código\n",
        "```\n",
        "\n"
      ]
    },
    {
      "cell_type": "code",
      "metadata": {
        "id": "_6sGfsRt7IuK",
        "outputId": "2d1700a8-998c-4eeb-92a4-6647a9c7963d",
        "colab": {
          "base_uri": "https://localhost:8080/",
          "height": 187
        }
      },
      "source": [
        "escuela = \"Fes aragon\"\n",
        "print(escuela )\n",
        "print(\"----------------\")\n",
        "edad = 13\n",
        "estatura= 1.67\n",
        "fumador = True\n",
        "frace = \"\"\"\n",
        "esat es \n",
        "una \n",
        "frace\n",
        "demultiple linia\n",
        "y ytambien es \n",
        "un tipo de dato\n",
        "\"\"\"\n",
        "print(frace )\n",
        "nombre=\"jose\"\n",
        "nombre_completo=\"jose morales \""
      ],
      "execution_count": 12,
      "outputs": [
        {
          "output_type": "stream",
          "text": [
            "Fes aragon\n",
            "----------------\n",
            "\n",
            "esat es \n",
            "una \n",
            "frace\n",
            "demultiple linia\n",
            "y ytambien es \n",
            "un tipo de dato\n",
            "\n"
          ],
          "name": "stdout"
        }
      ]
    },
    {
      "cell_type": "markdown",
      "metadata": {
        "id": "pKqc8HoK905v"
      },
      "source": [
        "# el print\n",
        "con comas ,\n",
        "con signo +\n",
        "con format()\n",
        "con el operador f\"\""
      ]
    },
    {
      "cell_type": "code",
      "metadata": {
        "id": "NkvLYe6V-BGY",
        "outputId": "9e01e618-0ef2-4ace-8e1b-5a532276b56b",
        "colab": {
          "base_uri": "https://localhost:8080/",
          "height": 34
        }
      },
      "source": [
        "print(niombre, edad)"
      ],
      "execution_count": 15,
      "outputs": [
        {
          "output_type": "stream",
          "text": [
            "jose 13\n"
          ],
          "name": "stdout"
        }
      ]
    },
    {
      "cell_type": "code",
      "metadata": {
        "id": "w93m2CHa-98S",
        "outputId": "27d4fb6c-db42-4d9d-bf18-ad1b0687f177",
        "colab": {
          "base_uri": "https://localhost:8080/",
          "height": 51
        }
      },
      "source": [
        "# +concatena\n",
        "print(nombre + str(edad))\n",
        "print(nombre + nombre_completo)"
      ],
      "execution_count": 17,
      "outputs": [
        {
          "output_type": "stream",
          "text": [
            "jose13\n",
            "josejose morales \n"
          ],
          "name": "stdout"
        }
      ]
    },
    {
      "cell_type": "code",
      "metadata": {
        "id": "Yd8mP3MkAOAh",
        "outputId": "903a8c46-df23-4f51-d2f7-20a0d7640ea8",
        "colab": {
          "base_uri": "https://localhost:8080/",
          "height": 68
        }
      },
      "source": [
        "#con formato -->su nombre: jose y su edad es de 13 años.\n",
        "print(\"su nombre es\", nombre,\"y su edad es de \",edad,\"años\")\n",
        "print(\"su nombre es {0} y su edad es de {1} años \".format(nombre,edad))\n",
        "print(\"c \".format(nombre,edad))\n"
      ],
      "execution_count": 22,
      "outputs": [
        {
          "output_type": "stream",
          "text": [
            "su nombre es jose y su edad es de  13 años\n",
            "su nombre es jose y su edad es de 13 años \n",
            "su nombre es 13 y su edad es de jose años \n"
          ],
          "name": "stdout"
        }
      ]
    },
    {
      "cell_type": "code",
      "metadata": {
        "id": "XTIF2y67B7p1",
        "outputId": "c9ed5e54-8a3d-430b-e6ee-e37430b03c21",
        "colab": {
          "base_uri": "https://localhost:8080/",
          "height": 34
        }
      },
      "source": [
        "#con formato de operador f \n",
        "print( f\"su nombre es \\\"{nombre }\\\" \"\"y su edad es de {edad} años\")"
      ],
      "execution_count": 29,
      "outputs": [
        {
          "output_type": "stream",
          "text": [
            "su nombre es \"jose\" y su edad es de {edad} años\n"
          ],
          "name": "stdout"
        }
      ]
    },
    {
      "cell_type": "markdown",
      "metadata": {
        "id": "OVxf_YIDClr9"
      },
      "source": [
        "# caracter de escape\n",
        "\\n salto de linia \\t tabulador \\a beep\n",
        "\\* imprimir comilla doble\n",
        "\\' imprimir comilla simple "
      ]
    },
    {
      "cell_type": "code",
      "metadata": {
        "id": "rLWRiPpwDUM7",
        "outputId": "52f45d7b-fc6d-48cf-a208-6f8c6cfad5a1",
        "colab": {
          "base_uri": "https://localhost:8080/",
          "height": 51
        }
      },
      "source": [
        "\"\"\"\n",
        "esto es \n",
        "un }comentario\n",
        "de mutiple linia\n",
        "tan tan \n",
        "\"\"\"\n",
        "print(f\"\\tMi nombre es \\n\\t\\t{nombre}\")"
      ],
      "execution_count": 30,
      "outputs": [
        {
          "output_type": "stream",
          "text": [
            "\tMi nombre es \n",
            "\t\tjose\n"
          ],
          "name": "stdout"
        }
      ]
    },
    {
      "cell_type": "markdown",
      "metadata": {
        "id": "W3FSTBxvDvuG"
      },
      "source": [
        "# ayuda de tipos de python de datos en python \n",
        "dir()\n",
        "help()"
      ]
    },
    {
      "cell_type": "code",
      "metadata": {
        "id": "GKxvm7kGEOCi"
      },
      "source": [
        "#str,in,bool...list,dict,set\n",
        "dir(str)"
      ],
      "execution_count": null,
      "outputs": []
    },
    {
      "cell_type": "code",
      "metadata": {
        "id": "O_i_EeboFP_5",
        "outputId": "8854e3c6-d17b-4bf5-a5ad-2f58a047011f",
        "colab": {
          "base_uri": "https://localhost:8080/",
          "height": 51
        }
      },
      "source": [
        "print(nombre_completo.capitalize())\n",
        "print(nombre_completo.upper(), end = \"---------------\")\n",
        "print(nombre_completo.title())"
      ],
      "execution_count": 35,
      "outputs": [
        {
          "output_type": "stream",
          "text": [
            "Jose morales \n",
            "JOSE MORALES ---------------Jose Morales \n"
          ],
          "name": "stdout"
        }
      ]
    },
    {
      "cell_type": "code",
      "metadata": {
        "id": "8hSeyiSKGFNn"
      },
      "source": [
        "help(print)"
      ],
      "execution_count": null,
      "outputs": []
    },
    {
      "cell_type": "markdown",
      "metadata": {
        "id": "5g_L1oPwGtaR"
      },
      "source": [
        "# clase String \n",
        "es manejada como un arreglo (a o java ) o liosta (python)\n",
        "'telefono = \"hawei mate 30 pro \"'\n"
      ]
    },
    {
      "cell_type": "code",
      "metadata": {
        "id": "u9ys9lWxHDMc",
        "outputId": "43f2dd4f-211c-4056-a23e-f182439b9705",
        "colab": {
          "base_uri": "https://localhost:8080/",
          "height": 34
        }
      },
      "source": [
        "telefono = \"hawei mate 30 pro \"\n",
        "print(telefono [4])"
      ],
      "execution_count": 39,
      "outputs": [
        {
          "output_type": "stream",
          "text": [
            "i\n"
          ],
          "name": "stdout"
        }
      ]
    },
    {
      "cell_type": "markdown",
      "metadata": {
        "id": "_MMsl6FTIZnl"
      },
      "source": [
        "# slicing (rebanadao)\n",
        "nota el stop no se incluye ,termina en valor anterior al stop \n"
      ]
    },
    {
      "cell_type": "code",
      "metadata": {
        "id": "LFJzQb8eIfaq",
        "outputId": "2e515799-d16f-4044-f6eb-0e272a7cf7f6",
        "colab": {
          "base_uri": "https://localhost:8080/",
          "height": 85
        }
      },
      "source": [
        "print (telefono[6:11:1])\n",
        "# el inicio y el incremento son obcionales \n",
        "print (telefono[:11:])\n",
        "# el valor por defecto de stop \n",
        "print (telefono [::1])\n",
        "#incremento negativo\n",
        "\n",
        "print(telefono[-4::1])"
      ],
      "execution_count": 52,
      "outputs": [
        {
          "output_type": "stream",
          "text": [
            "mate \n",
            "hawei mate \n",
            "hawei mate 30 pro \n",
            "pro \n"
          ],
          "name": "stdout"
        }
      ]
    },
    {
      "cell_type": "markdown",
      "metadata": {
        "id": "eyRhOuOfNSFd"
      },
      "source": [
        "#metodos String (str)\n",
        "existen metodos muy utiles en esta clase "
      ]
    },
    {
      "cell_type": "code",
      "metadata": {
        "id": "yzXvRWzgNafh",
        "outputId": "f49b3b3f-01ea-4d5a-a703-b3ddc8e86c61",
        "colab": {
          "base_uri": "https://localhost:8080/",
          "height": 255
        }
      },
      "source": [
        "facultad =\"     facultad de estudio superiores aragon     \" \n",
        "tamaño=len (facultad)\n",
        "print(facultad.count(\"f\"))# numero de la letra buscada\n",
        "print(facultad.find(\"s\"))#pocision de una caracteristica de la primera que encuantre\n",
        "print(facultad.strip())# quita espacios y espacios d linia \n",
        "print(len(facultad))# longuitud de un estreing\n",
        "print(f\"tamaño de la cadena es {tamaño} caracteres \")\n",
        "print(facultad)\n",
        "print(facultad.strip().split(\" \"))\n",
        "print(\"------------------\")\n",
        "#copiar cadena \n",
        "otra_cadena = facultad\n",
        "print(otra_cadena )\n",
        "otra_cadena = \"fes aragon\"\n",
        "otra_cadena = facultad\n",
        "print(otra_cadena )\n",
        "#copiar lista\n",
        "colores= [\"rojo\",\"azul\"]\n",
        "otra = colores.copy()\n",
        "print(colores)\n",
        "print(otra)\n",
        "otra.append(\"rosa\")\n",
        "print(colores)\n",
        "print(otra)"
      ],
      "execution_count": 74,
      "outputs": [
        {
          "output_type": "stream",
          "text": [
            "1\n",
            "18\n",
            "facultad de estudio superiores aragon\n",
            "47\n",
            "tamaño de la cadena es 47 caracteres \n",
            "     facultad de estudio superiores aragon     \n",
            "['facultad', 'de', 'estudio', 'superiores', 'aragon']\n",
            "------------------\n",
            "     facultad de estudio superiores aragon     \n",
            "     facultad de estudio superiores aragon     \n",
            "['rojo', 'azul']\n",
            "['rojo', 'azul']\n",
            "['rojo', 'azul']\n",
            "['rojo', 'azul', 'rosa']\n"
          ],
          "name": "stdout"
        }
      ]
    }
  ]
}