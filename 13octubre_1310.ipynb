{
  "nbformat": 4,
  "nbformat_minor": 0,
  "metadata": {
    "colab": {
      "name": "13octubre_1310.ipynb",
      "provenance": [],
      "authorship_tag": "ABX9TyOf43Xup7EVa5+3qX0ZI+qt",
      "include_colab_link": true
    },
    "kernelspec": {
      "name": "python3",
      "display_name": "Python 3"
    }
  },
  "cells": [
    {
      "cell_type": "markdown",
      "metadata": {
        "id": "view-in-github",
        "colab_type": "text"
      },
      "source": [
        "<a href=\"https://colab.research.google.com/github/wargreimon501/edd_1310_2021/blob/master/13octubre_1310.ipynb\" target=\"_parent\"><img src=\"https://colab.research.google.com/assets/colab-badge.svg\" alt=\"Open In Colab\"/></a>"
      ]
    },
    {
      "cell_type": "code",
      "metadata": {
        "id": "GipTJzONwOKD",
        "outputId": "2cf3454a-f3b2-4481-895b-919c2af9cce5",
        "colab": {
          "base_uri": "https://localhost:8080/",
          "height": 88
        }
      },
      "source": [
        "alumno = { \n",
        "          \"num_cta\" : 303030303 ,\n",
        "          \"carrera\" : \"ICO\",\n",
        "          \"promedio\" : 9.8,\n",
        "          \"materias\" :[\"EDD\",\"CyP\",\"Calidad\",\"Emprendimiento\"],\n",
        "          \"direccion\" : { \n",
        "                            \"calle\":\"rancho seco\",\n",
        "                            \"numero\" : 23 ,\n",
        "                            \"delegacion\" : \"Neza\",\n",
        "                            \"estado\" : {\n",
        "                                        \"id\" : 15 ,\n",
        "                                        \"nombre\" : \"Estado de Máxico\" ,\n",
        "                                        \"nombre_corto\" : \"EdoMex\"\n",
        "                                        } ,\n",
        "                            \"CP\":57170\n",
        "\n",
        "                        } \n",
        "          }\n",
        "print(alumno)\n",
        "alumno[\"carrera\"]=\"ingenieria computacion\"\n",
        "print(alumno)\n",
        "alumno[\"nombre_completo\"]={\"primer\":\"juan\",\n",
        "                          \"segundo\":\"pedo\",\n",
        "                          \"paterno\":\"hernandex\",\n",
        "                           \"materno\":\"gomez\"\n",
        "                            }\n",
        "alumno[\"semestre\"]=3\n",
        "print(alumno)\n",
        "print(f)"
      ],
      "execution_count": 3,
      "outputs": [
        {
          "output_type": "stream",
          "text": [
            "{'num_cta': 303030303, 'carrera': 'ICO', 'promedio': 9.8, 'materias': ['EDD', 'CyP', 'Calidad', 'Emprendimiento'], 'direccion': {'calle': 'rancho seco', 'numero': 23, 'delegacion': 'Neza', 'estado': {'id': 15, 'nombre': 'Estado de Máxico', 'nombre_corto': 'EdoMex'}, 'CP': 57170}}\n",
            "{'num_cta': 303030303, 'carrera': 'ingenieria computacion', 'promedio': 9.8, 'materias': ['EDD', 'CyP', 'Calidad', 'Emprendimiento'], 'direccion': {'calle': 'rancho seco', 'numero': 23, 'delegacion': 'Neza', 'estado': {'id': 15, 'nombre': 'Estado de Máxico', 'nombre_corto': 'EdoMex'}, 'CP': 57170}}\n",
            "{'num_cta': 303030303, 'carrera': 'ingenieria computacion', 'promedio': 9.8, 'materias': ['EDD', 'CyP', 'Calidad', 'Emprendimiento'], 'direccion': {'calle': 'rancho seco', 'numero': 23, 'delegacion': 'Neza', 'estado': {'id': 15, 'nombre': 'Estado de Máxico', 'nombre_corto': 'EdoMex'}, 'CP': 57170}, 'nombre_completo': {'primer': 'juan', 'segundo': 'pedo', 'paterno': 'hernandex', 'materno': 'gomez'}, 'semestre': 3}\n"
          ],
          "name": "stdout"
        }
      ]
    },
    {
      "cell_type": "code",
      "metadata": {
        "id": "_L3XsWj2yBDc",
        "outputId": "06b1bd17-bb56-4509-d243-36f8a78f590b",
        "colab": {
          "base_uri": "https://localhost:8080/",
          "height": 428
        }
      },
      "source": [
        "# key() , values(),items()\n",
        "llaves= alumno.keys()\n",
        "print(llaves)\n",
        "for llaves in llaves:\n",
        "  print(llaves.upper())\n",
        "valores = alumno.values()\n",
        "for val in valores:\n",
        "  print(val)\n",
        "pares = alumno.items()\n",
        "print(pares)\n",
        "for elem in pares:\n",
        "  print(f'el campo\"{elem[0]}) tienes el valor {elem[1]}')"
      ],
      "execution_count": 14,
      "outputs": [
        {
          "output_type": "stream",
          "text": [
            "dict_keys(['num_cta', 'carrera', 'promedio', 'materias', 'direccion', 'nombre_completo', 'semestre'])\n",
            "NUM_CTA\n",
            "CARRERA\n",
            "PROMEDIO\n",
            "MATERIAS\n",
            "DIRECCION\n",
            "NOMBRE_COMPLETO\n",
            "SEMESTRE\n",
            "303030303\n",
            "ingenieria computacion\n",
            "9.8\n",
            "['EDD', 'CyP', 'Calidad', 'Emprendimiento']\n",
            "{'calle': 'rancho seco', 'numero': 23, 'delegacion': 'Neza', 'estado': {'id': 15, 'nombre': 'Estado de Máxico', 'nombre_corto': 'EdoMex'}, 'CP': 57170}\n",
            "{'primer': 'juan', 'segundo': 'pedo', 'paterno': 'hernandex', 'materno': 'gomez'}\n",
            "3\n",
            "dict_items([('num_cta', 303030303), ('carrera', 'ingenieria computacion'), ('promedio', 9.8), ('materias', ['EDD', 'CyP', 'Calidad', 'Emprendimiento']), ('direccion', {'calle': 'rancho seco', 'numero': 23, 'delegacion': 'Neza', 'estado': {'id': 15, 'nombre': 'Estado de Máxico', 'nombre_corto': 'EdoMex'}, 'CP': 57170}), ('nombre_completo', {'primer': 'juan', 'segundo': 'pedo', 'paterno': 'hernandex', 'materno': 'gomez'}), ('semestre', 3)])\n",
            "el campo\"num_cta) tienes el valor 303030303\n",
            "el campo\"carrera) tienes el valor ingenieria computacion\n",
            "el campo\"promedio) tienes el valor 9.8\n",
            "el campo\"materias) tienes el valor ['EDD', 'CyP', 'Calidad', 'Emprendimiento']\n",
            "el campo\"direccion) tienes el valor {'calle': 'rancho seco', 'numero': 23, 'delegacion': 'Neza', 'estado': {'id': 15, 'nombre': 'Estado de Máxico', 'nombre_corto': 'EdoMex'}, 'CP': 57170}\n",
            "el campo\"nombre_completo) tienes el valor {'primer': 'juan', 'segundo': 'pedo', 'paterno': 'hernandex', 'materno': 'gomez'}\n",
            "el campo\"semestre) tienes el valor 3\n"
          ],
          "name": "stdout"
        }
      ]
    },
    {
      "cell_type": "code",
      "metadata": {
        "id": "XijOwAZ01DNy",
        "outputId": "3a9db6b3-7eb7-44b0-eac5-811fe77caf81",
        "colab": {
          "base_uri": "https://localhost:8080/",
          "height": 54
        }
      },
      "source": [
        "computadora = {\"procesador\":\"intel i7\",\"ram\":\"kingston 128 gb\"}\n",
        "otros = {\"monitor\":\"lg 49\\\"\" , \"hd\":\"thoshia 1tb\"}\n",
        "computadora.update(otros)#meter un diccionario a otro  \n",
        "print(computadora)"
      ],
      "execution_count": 18,
      "outputs": [
        {
          "output_type": "stream",
          "text": [
            "{'procesador': 'intel i7', 'ram': 'kingston 128 gb', 'monitor': 'lg 49\"', 'hd': 'thoshia 1tb'}\n"
          ],
          "name": "stdout"
        }
      ]
    },
    {
      "cell_type": "markdown",
      "metadata": {
        "id": "bqe--KpD2ynI"
      },
      "source": [
        "# funciones \n",
        "-unidad de codigo reutilizable \n",
        "es una mecanica de orgnisacion de codigo\n",
        "-una fincion toma de 0 a n parametros de estrada\n",
        "-tiene una sola salida (retur) de cualquier tipo de dato \n",
        "-solo puede hcer dos cosas \n",
        "definirla \n",
        "llamarla\n",
        "-se define con la palabra reservada 'def' "
      ]
    },
    {
      "cell_type": "code",
      "metadata": {
        "id": "4I8LCMhH36ds",
        "outputId": "a8f11657-2bb3-4aea-db6b-790a51f4e618",
        "colab": {
          "base_uri": "https://localhost:8080/",
          "height": 170
        }
      },
      "source": [
        "def sumar(x,y):\n",
        "  resultado=x+y\n",
        "  return resultado\n",
        "def saludar ( nombre ):\n",
        "  print(f\"hola {nombre},¿como esta?\")\n",
        "  return None\n",
        "# procesar none\n",
        "def multiplicar(valor , veces):\n",
        "  if valor !=None:\n",
        "    c = valor *veces\n",
        "  else:\n",
        "    c=\"operacion no valida\"\n",
        "  return c\n",
        "def operacion(a,b,c):\n",
        "  res = a+(b/c)\n",
        "  return res \n",
        "#valore por defecto\n",
        "def comanda( primer ,fuerte ,postre ):\n",
        "  print(f\"de entrada pidio :{primer}\")\n",
        "  print(f\"de plato fuerte {fuerte}\")\n",
        "  print(f\"postre {postre}\")\n",
        "\n",
        "comanda(\"sopa de agua\",\"tortas de paga\", \"gelatina de limon\" )\n",
        "  \n",
        "v=sumar(7,8)\n",
        "print(v)\n",
        "print(sumar(3,4))\n",
        "\n",
        "saludar(\"rafael\")\n",
        "print(multiplicar(None,6))\n",
        "print(operacion(2,3,9))\n",
        "print(operacion(a=2,c=3,b=9))"
      ],
      "execution_count": 29,
      "outputs": [
        {
          "output_type": "stream",
          "text": [
            "de entrada pidio :sopa de agua\n",
            "de plato fuerte tortas de paga\n",
            "postre gelatina de limon\n",
            "15\n",
            "7\n",
            "hola rafael,¿como esta?\n",
            "operacion no valida\n",
            "2.3333333333333335\n",
            "5.0\n"
          ],
          "name": "stdout"
        }
      ]
    },
    {
      "cell_type": "code",
      "metadata": {
        "id": "dq7Q1zkL-6pi",
        "outputId": "39c99593-cf0e-4a26-96fa-7002bfe0bbd3",
        "colab": {
          "base_uri": "https://localhost:8080/",
          "height": 306
        }
      },
      "source": [
        "def comanda( primer ,fuerte ,postre=\"galleta\" ):\n",
        "  print(f\"de entrada pidio :{primer}\")\n",
        "  print(f\"de plato fuerte {fuerte}\")\n",
        "  print(f\"postre {postre}\")\n",
        "# argumentos posisoniales con tuplas\n",
        "def comanda_2( * opciones):\n",
        "  print(f\"de entrada pidio :{opciones[0]}\")\n",
        "  print(f\"de plato fuerte {opciones[1]}\")\n",
        "  print(f\"postre {opciones[2]}\")\n",
        "  print(\"\\n indicaciones extras\")\n",
        "  for ind in opciones [3::]:\n",
        "    print(f\"\\n {ind}\")\n",
        "\n",
        "comanda(\"sopa de agua\",\"tortas de paga\", \"gelatina de limon\" )\n",
        "comanda(\"sopa de agua\",\"tortas de paga\")\n",
        "comanda_2(\"sopa de agua\",\"tortas de paga\", \"gelatina de limon\",\"las tortas bien dorada\" , \"traer limon\",\"agua con hielo\")\n",
        "# argumentos posisoniales con diccionario"
      ],
      "execution_count": 37,
      "outputs": [
        {
          "output_type": "stream",
          "text": [
            "de entrada pidio :sopa de agua\n",
            "de plato fuerte tortas de paga\n",
            "postre gelatina de limon\n",
            "de entrada pidio :sopa de agua\n",
            "de plato fuerte tortas de paga\n",
            "postre galleta\n",
            "de entrada pidio :sopa de agua\n",
            "de plato fuerte tortas de paga\n",
            "postre gelatina de limon\n",
            "\n",
            " indicaciones extras\n",
            "\n",
            " las tortas bien dorada\n",
            "\n",
            " traer limon\n",
            "\n",
            " agua con hielo\n"
          ],
          "name": "stdout"
        }
      ]
    },
    {
      "cell_type": "code",
      "metadata": {
        "id": "rX9xoF5oB6fy",
        "outputId": "fd6c4288-e21f-47a8-ee7b-535c62f92d21",
        "colab": {
          "base_uri": "https://localhost:8080/",
          "height": 156
        }
      },
      "source": [
        "# argumentos posisoniales con diconario\n",
        "def comanda_3(**opciones):\n",
        "  print(opciones)\n",
        "  for op in opciones.items():\n",
        "    print(f\"{op[0]}->{op[1]}\")\n",
        "\n",
        "comanda_3(primer=\"sopa de agua\",fuerte=\"tortas de paga\",postre= \"gelatina de limon\",\n",
        "          extra1=\"las tortas bien dorada\" , extra2=\"traer limon\",extra3=\"agua con hielo\")"
      ],
      "execution_count": 46,
      "outputs": [
        {
          "output_type": "stream",
          "text": [
            "{'primer': 'sopa de agua', 'fuerte': 'tortas de paga', 'postre': 'gelatina de limon', 'extra1': 'las tortas bien dorada', 'extra2': 'traer limon', 'extra3': 'agua con hielo'}\n",
            "primer->sopa de agua\n",
            "fuerte->tortas de paga\n",
            "postre->gelatina de limon\n",
            "extra1->las tortas bien dorada\n",
            "extra2->traer limon\n",
            "extra3->agua con hielo\n"
          ],
          "name": "stdout"
        }
      ]
    }
  ]
}