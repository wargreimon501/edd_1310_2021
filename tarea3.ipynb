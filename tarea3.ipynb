{
  "nbformat": 4,
  "nbformat_minor": 0,
  "metadata": {
    "colab": {
      "name": "tarea3.ipynb",
      "provenance": [],
      "authorship_tag": "ABX9TyOnEVHd8kv+68UlMCQIMSaR",
      "include_colab_link": true
    },
    "kernelspec": {
      "name": "python3",
      "display_name": "Python 3"
    }
  },
  "cells": [
    {
      "cell_type": "markdown",
      "metadata": {
        "id": "view-in-github",
        "colab_type": "text"
      },
      "source": [
        "<a href=\"https://colab.research.google.com/github/wargreimon501/edd_1310_2021/blob/master/tarea3.ipynb\" target=\"_parent\"><img src=\"https://colab.research.google.com/assets/colab-badge.svg\" alt=\"Open In Colab\"/></a>"
      ]
    },
    {
      "cell_type": "code",
      "metadata": {
        "id": "t0chVBnyTtVb",
        "outputId": "32af2da3-38d1-46ed-b172-fb4f6a63add5",
        "colab": {
          "base_uri": "https://localhost:8080/",
          "height": 221
        }
      },
      "source": [
        "\n",
        "\n",
        "class persona:\n",
        "    def __init__(self,n,e,es):\n",
        "        self.__nombre=n\n",
        "        self.__edad=e\n",
        "        self.__estatura=es\n",
        "    def to_string(self):\n",
        "        return \"Nombre ;\" + self.__nombre +\"\\n\"+ \" Edad ;\" + self.__edad +\"\\n\"+   \" Estatura ; \" + self.__estatura+\"\\n\"\n",
        "    def dormir(self):\n",
        "        return (\"estoy mimiendo\")\n",
        "    def comer(self):\n",
        "        return \"Comere una sandia\"\n",
        "yo= persona(\"Rafael\",\"20\",\"1.79m\")\n",
        "\n",
        "print(yo.to_string(),yo.dormir(),'\\n',yo.comer())\n",
        "\n",
        "a=int(input(\"vas a marcarle a alguien si[1] , no [0]\"))\n",
        "c=int(input(\"vas aponer la alarma si[1] ,no [0]]\"))\n",
        "class celular:\n",
        "    def __init__(self,ma,mo,em):\n",
        "        self.__marca=ma\n",
        "        self.__modelo=mo\n",
        "        self.__espacio_de_memoria=em\n",
        "    def to_string(self):\n",
        "        return \"Marca ; \"+self.__marca+'\\n'+\"Modelo ; \"+self.__modelo+'\\n'+\"Espacio de memoria ; \"+self.__espacio_de_memoria\n",
        "    def llamar(self):\n",
        "        if a==1:\n",
        "            n=\" marca el numero \"\n",
        "        else:\n",
        "            n=\"no se le marco a nadie \"\n",
        "        return n\n",
        "\n",
        "    def poner_alarma(self):\n",
        "        if c==1:\n",
        "            m=\"pon la alarma para la clase\"\n",
        "        else:\n",
        "            m=\"es fin de semana desactibemos la alarma \"\n",
        "        return m\n",
        "    \n",
        "\n",
        "hawei=celular(\"Hawei\",\"Y7\",\"32GB\")\n",
        "\n",
        "print(hawei.to_string(),'\\n',hawei.llamar(),'\\n',hawei.poner_alarma())\n"
      ],
      "execution_count": 1,
      "outputs": [
        {
          "output_type": "stream",
          "text": [
            "Nombre ;Rafael\n",
            " Edad ;20\n",
            " Estatura ; 1.79m\n",
            " estoy mimiendo \n",
            " Comere una sandia\n",
            "vas a marcarle a alguien si[1] , no [0]1\n",
            "vas aponer la larma si[1] ,no [0]]0\n",
            "Marca ; Hawei\n",
            "Modelo ; Y7\n",
            "Espacio de memoria ; 32GB \n",
            "  marca el numero  \n",
            " es fin de semana desactibemos la alarma \n"
          ],
          "name": "stdout"
        }
      ]
    }
  ]
}