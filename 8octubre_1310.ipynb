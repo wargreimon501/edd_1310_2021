{
  "nbformat": 4,
  "nbformat_minor": 0,
  "metadata": {
    "colab": {
      "name": "8octubre_1310.ipynb",
      "provenance": [],
      "authorship_tag": "ABX9TyPCAHo+zQhzAv3uet8pT76Y",
      "include_colab_link": true
    },
    "kernelspec": {
      "name": "python3",
      "display_name": "Python 3"
    }
  },
  "cells": [
    {
      "cell_type": "markdown",
      "metadata": {
        "id": "view-in-github",
        "colab_type": "text"
      },
      "source": [
        "<a href=\"https://colab.research.google.com/github/wargreimon501/edd_1310_2021/blob/master/8octubre_1310.ipynb\" target=\"_parent\"><img src=\"https://colab.research.google.com/assets/colab-badge.svg\" alt=\"Open In Colab\"/></a>"
      ]
    },
    {
      "cell_type": "code",
      "metadata": {
        "id": "2qka3N_78ZHA",
        "outputId": "95a0a1a1-5cdb-419f-d7f8-195e86123c77",
        "colab": {
          "base_uri": "https://localhost:8080/",
          "height": 156
        }
      },
      "source": [
        "monitores =[[\"Samsung\",\"17.3 \\\"\",1024],[\"BenQ\",\"40\\\"\",2048]]\n",
        "procesadores = [[\"Intel\",\"i7\",3.4],[\"AMD\",\"razzer\",3.3],[\"Intel\",\"i3\",3.1]]\n",
        "memorias = [[\"Kingston\", \"8GB\",\"DDR4\"],[\"Kingston\", \"16GB\",\"DDR3\"],[\"ADATA\", \"32GB\",\"DDR4\"]]\n",
        "\n",
        "componentes = [monitores,procesadores,memorias]\n",
        "print(componentes)\n",
        "print(componentes[1][1])\n",
        "print(componentes[2][1][1])\n",
        "print(componentes[1][1])\n",
        "v=(componentes[0][1][2])*(2)\n",
        "print(v)\n",
        "print(componentes[1][1][1][1:3:])\n",
        "print(componentes[2][2][0].lower())"
      ],
      "execution_count": 15,
      "outputs": [
        {
          "output_type": "stream",
          "text": [
            "[[['Samsung', '17.3 \"', 1024], ['BenQ', '40\"', 2048]], [['Intel', 'i7', 3.4], ['AMD', 'razzer', 3.3], ['Intel', 'i3', 3.1]], [['Kingston', '8GB', 'DDR4'], ['Kingston', '16GB', 'DDR3'], ['ADATA', '32GB', 'DDR4']]]\n",
            "['AMD', 'razzer', 3.3]\n",
            "16GB\n",
            "['AMD', 'razzer', 3.3]\n",
            "4096\n",
            "az\n",
            "adata\n"
          ],
          "name": "stdout"
        }
      ]
    },
    {
      "cell_type": "code",
      "metadata": {
        "id": "S5MXnYaqH6k_",
        "outputId": "43ca0445-509e-4846-feb4-3f16531986e6",
        "colab": {
          "base_uri": "https://localhost:8080/",
          "height": 170
        }
      },
      "source": [
        "frutas=[\"manzana\",\"pera\",\"aguacate\",\"sandia\"]\n",
        "frutas_otras=[\"melon\",\"platana\"]\n",
        "\n",
        "\n",
        "#+ sobre ñista\n",
        "\n",
        "#frutas = frutas + frutas_otras\n",
        "#print(frutas)\n",
        "#funcion extend\n",
        "frutas.extend(frutas_otras)\n",
        "print(frutas)\n",
        "# copiar\n",
        "colores =[\"azul\",\"rojo\",\"verde\",\"violeta\"]\n",
        "otros_colores= colores \n",
        "\n",
        "print(colores)\n",
        "print(otros_colores)\n",
        "otros_colores.append(\"rosa\")\n",
        "print(colores)\n",
        "print(otros_colores)\n",
        "\n",
        "una_mas=colores.copy()\n",
        "print(una_mas)\n",
        "una_mas.append(\"carmesi\")\n",
        "print(una_mas)\n",
        "print(colores)\n",
        "#unpakink de lista\n",
        "alumno = [\"rafael\",\"sena\",\"arrieta\",20,\"ICO\",9.4]\n",
        "#nombre=alumno[0]\n",
        "nombre,paterno,materno,edad,carrera,promedio=alumno\n",
        "print(f\"Alumno:{nombre} carrera :{carrera} promedio : {promedio}\")\n"
      ],
      "execution_count": 31,
      "outputs": [
        {
          "output_type": "stream",
          "text": [
            "['manzana', 'pera', 'aguacate', 'sandia', 'melon', 'platana']\n",
            "['azul', 'rojo', 'verde', 'violeta']\n",
            "['azul', 'rojo', 'verde', 'violeta']\n",
            "['azul', 'rojo', 'verde', 'violeta', 'rosa']\n",
            "['azul', 'rojo', 'verde', 'violeta', 'rosa']\n",
            "['azul', 'rojo', 'verde', 'violeta', 'rosa']\n",
            "['azul', 'rojo', 'verde', 'violeta', 'rosa', 'carmesi']\n",
            "['azul', 'rojo', 'verde', 'violeta', 'rosa']\n",
            "Alumno:rafael carrera :ICO promedio : 9.4\n"
          ],
          "name": "stdout"
        }
      ]
    },
    {
      "cell_type": "markdown",
      "metadata": {
        "id": "kuuxqLU9R4A-"
      },
      "source": [
        "#tuplas\n",
        "-se declara con ()\n",
        "-el selector con []\n",
        "-no son mutables \n"
      ]
    },
    {
      "cell_type": "code",
      "metadata": {
        "id": "1m4R-RpTSMT_",
        "outputId": "15d173c0-2105-4b45-ea71-aadd9a51356d",
        "colab": {
          "base_uri": "https://localhost:8080/",
          "height": 68
        }
      },
      "source": [
        "precios =(99.9,49.90,12.45,54.65,)\n",
        "print(precios[1])\n",
        "print(precios)\n",
        "print(precios[2:4:])"
      ],
      "execution_count": 35,
      "outputs": [
        {
          "output_type": "stream",
          "text": [
            "49.9\n",
            "(99.9, 49.9, 12.45, 54.65)\n",
            "(12.45, 54.65)\n"
          ],
          "name": "stdout"
        }
      ]
    },
    {
      "cell_type": "markdown",
      "metadata": {
        "id": "41m4L4kcTjXl"
      },
      "source": [
        "# diccionarios \n",
        "-se declara con {}\n",
        "-si son mutables\n",
        "-conjunto de pares llave : valor\n",
        "-equvalente a los objetos JSON se javaScrip\n",
        "-el selector es igual a corchetes cuadrado"
      ]
    },
    {
      "cell_type": "code",
      "metadata": {
        "id": "fP-oHWXwT7OU",
        "outputId": "c005527f-78be-42d3-9d6f-26dc46396eb5",
        "colab": {
          "base_uri": "https://localhost:8080/",
          "height": 139
        }
      },
      "source": [
        "cliente = {  }\n",
        "print(cliente)\n",
        "alumno={   \"num_cta\"  : 316075173  }\n",
        "print(alumno)\n",
        "alumno={\n",
        "        \"num_cta \": 3030303030,\n",
        "        \"carrera \" : \"ICO\",\n",
        "        \"promedio\" : 9.4,\n",
        "        \"materia\" : [\"EDD\",\"CyP\",\"calidad\", \"emprendimiento\"],\n",
        "        \"direccion\" : {\n",
        "            \"calle\":\"ascencio galicia\",\n",
        "            \"numero\": 24,\n",
        "            \"delegacion\": \"tlahuac\",\n",
        "            \"estado\" :{\n",
        "                \"id\":14,\n",
        "                \"nombre\":\"Ciudad de mexico\",\n",
        "                \"nombre corto\":\"CDMX\"\n",
        "\n",
        "\n",
        "            }\n",
        "            \n",
        "        }\n",
        "        }\n",
        "print(alumno)\n",
        "print(alumno[\"materia\"])\n",
        "print(alumno[\"promedio\"])\n",
        "print(alumno[\"direccion\"][\"estado\"][\"nombre corto\"])\n"
      ],
      "execution_count": 45,
      "outputs": [
        {
          "output_type": "stream",
          "text": [
            "{}\n",
            "{'num_cta': 316075173}\n",
            "{'num_cta ': 3030303030, 'carrera ': 'ICO', 'promedio': 9.4, 'materia': ['EDD', 'CyP', 'calidad', 'emprendimiento'], 'direccion': {'calle': 'ascencio galicia', 'numero': 24, 'delegacion': 'tlahuac', 'estado': {'id': 14, 'nombre': 'Ciudad de mexico', 'nombre corto': 'CDMX'}}}\n",
            "['EDD', 'CyP', 'calidad', 'emprendimiento']\n",
            "9.4\n",
            "CDMX\n"
          ],
          "name": "stdout"
        }
      ]
    }
  ]
}